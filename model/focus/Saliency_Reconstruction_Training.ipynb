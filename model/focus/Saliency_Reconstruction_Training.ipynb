{
 "cells": [
  {
   "cell_type": "code",
   "execution_count": 292,
   "metadata": {},
   "outputs": [],
   "source": [
    "# If in Colab, uncomment:\n",
    "# !pip install torch torchvision matplotlib\n",
    "import torch\n",
    "import torch.nn as nn\n",
    "import torch.nn.functional as F\n",
    "import torchvision.transforms as T\n",
    "import torchvision.datasets as datasets\n",
    "from torch.utils.data import DataLoader\n",
    "import matplotlib.pyplot as plt\n",
    "import numpy as np"
   ]
  },
  {
   "cell_type": "code",
   "execution_count": 293,
   "metadata": {},
   "outputs": [],
   "source": [
    "# Saliency Model\n",
    "class SaliencyCNN(nn.Module):\n",
    "    def __init__(self):\n",
    "        super().__init__()\n",
    "        self.features = nn.Sequential(\n",
    "            nn.Conv2d(1, 32, 3, padding=1), nn.ReLU(),\n",
    "            nn.MaxPool2d(2),\n",
    "            nn.Conv2d(32, 64, 3, padding=1), nn.ReLU(),\n",
    "            nn.MaxPool2d(2),\n",
    "            nn.Conv2d(64, 1, 1, padding=0)\n",
    "        )\n",
    "    \n",
    "    def forward(self, x):\n",
    "        return self.features(x)"
   ]
  },
  {
   "cell_type": "code",
   "execution_count": 294,
   "metadata": {},
   "outputs": [],
   "source": [
    "g_patch_size = 9\n",
    "g_image_size = 28\n",
    "g_patch_count = 5\n",
    "channel_count = 1"
   ]
  },
  {
   "cell_type": "code",
   "execution_count": 295,
   "metadata": {},
   "outputs": [],
   "source": [
    "# Reconstructor Network\n",
    "class PatchReconstructor(nn.Module):\n",
    "    def __init__(self, patch_count=g_patch_count, patch_size=g_patch_size, image_size=g_image_size):\n",
    "        super().__init__()\n",
    "        self.fc = nn.Sequential(\n",
    "            nn.Flatten(),\n",
    "            nn.Dropout(0.5),\n",
    "            nn.Linear(patch_count * channel_count * patch_size * patch_size, 1024),\n",
    "            nn.ReLU(),\n",
    "            nn.Dropout(0.5),\n",
    "            nn.Linear(1024, channel_count * image_size * image_size),\n",
    "        )\n",
    "        self.image_size = image_size\n",
    "\n",
    "    def forward(self, patches):\n",
    "        batch = patches.shape[0] // 5\n",
    "        patches = patches.view(batch, -1)\n",
    "        out = self.fc(patches)\n",
    "        return out.view(-1, 1, self.image_size, self.image_size)"
   ]
  },
  {
   "cell_type": "code",
   "execution_count": 296,
   "metadata": {},
   "outputs": [],
   "source": [
    "def extract_topk_patches(image, heatmap, patch_size=g_patch_size, k=g_patch_count):\n",
    "    b, _, h, w = heatmap.shape\n",
    "    flat = heatmap.view(b, -1)\n",
    "    topk_vals, topk_indices = flat.topk(k, dim=1)\n",
    "\n",
    "    patches = []\n",
    "    for i in range(b):\n",
    "        img = image[i]\n",
    "        for idx in topk_indices[i]:\n",
    "            y = (idx // w).item()\n",
    "            x = (idx % w).item()\n",
    "            y1 = max(0, y - patch_size // 2)\n",
    "            x1 = max(0, x - patch_size // 2)\n",
    "            patch = img[:, y1:y1+patch_size, x1:x1+patch_size]\n",
    "            patch = F.interpolate(patch.unsqueeze(0), size=(patch_size, patch_size), mode='bilinear')\n",
    "            patches.append(patch)\n",
    "    return torch.cat(patches, dim=0)"
   ]
  },
  {
   "cell_type": "code",
   "execution_count": 297,
   "metadata": {},
   "outputs": [],
   "source": [
    "transform = T.Compose([\n",
    "    T.Resize((g_image_size, g_image_size)),\n",
    "    T.ToTensor(),\n",
    "])\n",
    "\n",
    "dataset = datasets.MNIST(root='./data', train=True, transform=transform, download=True)\n",
    "dataloader = DataLoader(dataset, batch_size=16, shuffle=True)"
   ]
  },
  {
   "cell_type": "code",
   "execution_count": 298,
   "metadata": {},
   "outputs": [
    {
     "name": "stdout",
     "output_type": "stream",
     "text": [
      "Epoch 1 | Loss: 0.0635\n"
     ]
    }
   ],
   "source": [
    "saliency_model = SaliencyCNN()\n",
    "reconstructor = PatchReconstructor()\n",
    "params = list(saliency_model.parameters()) + list(reconstructor.parameters())\n",
    "optimizer = torch.optim.Adam(params, lr=1e-3)\n",
    "loss_fn = nn.MSELoss()\n",
    "\n",
    "for epoch in range(1):\n",
    "    for images, _ in dataloader:\n",
    "        optimizer.zero_grad()\n",
    "        heatmap = saliency_model(images)\n",
    "        patches = extract_topk_patches(images, heatmap, patch_size=g_patch_size, k=5)\n",
    "        reconstructed = reconstructor(patches)\n",
    "        loss = loss_fn(reconstructed, images)\n",
    "        loss.backward()\n",
    "        optimizer.step()\n",
    "    print(f\"Epoch {epoch+1} | Loss: {loss.item():.4f}\")"
   ]
  },
  {
   "cell_type": "code",
   "execution_count": 327,
   "metadata": {},
   "outputs": [
    {
     "data": {
      "image/png": "[encoded data removed]",
      "text/plain": [
       "<Figure size 800x400 with 2 Axes>"
      ]
     },
     "metadata": {},
     "output_type": "display_data"
    }
   ],
   "source": [
    "def show_result(original, reconstructed):\n",
    "    original = original[0].permute(1, 2, 0).detach().numpy()\n",
    "    reconstructed = reconstructed[0].permute(1, 2, 0).detach().numpy()\n",
    "    fig, axs = plt.subplots(1, 2, figsize=(8, 4))\n",
    "    axs[0].imshow(original)\n",
    "    axs[0].set_title(\"Original\")\n",
    "    axs[1].imshow(np.clip(reconstructed, 0, 1))\n",
    "    axs[1].set_title(\"Reconstructed\")\n",
    "    for ax in axs: ax.axis('off')\n",
    "    plt.show()\n",
    "\n",
    "images, _ = next(iter(dataloader))\n",
    "with torch.no_grad():\n",
    "    heatmap = saliency_model(images)\n",
    "    patches = extract_topk_patches(images, heatmap, patch_size=g_patch_size, k=5)\n",
    "    reconstructed = reconstructor(patches)\n",
    "\n",
    "show_result(images, reconstructed)"
   ]
  },
  {
   "cell_type": "code",
   "execution_count": 328,
   "metadata": {},
   "outputs": [],
   "source": [
    "import torch\n",
    "import torch.nn as nn\n",
    "import torch.nn.functional as F\n",
    "import torchvision.transforms as T\n",
    "import torchvision.datasets as datasets\n",
    "from torch.utils.data import DataLoader\n",
    "import matplotlib.pyplot as plt\n",
    "import numpy as np\n",
    "\n",
    "# Saliency Model\n",
    "class SaliencyCNN(nn.Module):\n",
    "    def __init__(self):\n",
    "        super().__init__()\n",
    "        self.features = nn.Sequential(\n",
    "            nn.Conv2d(1, 32, 3, padding=1), nn.ReLU(),\n",
    "            nn.MaxPool2d(2),\n",
    "            nn.Conv2d(32, 64, 3, padding=1), nn.ReLU(),\n",
    "            nn.MaxPool2d(2),\n",
    "            nn.Conv2d(64, 1, 1, padding=0)\n",
    "        )\n",
    "    \n",
    "    def forward(self, x):\n",
    "        return self.features(x)\n",
    "\n",
    "g_patch_size = 9\n",
    "g_image_size = 28\n",
    "g_patch_count = 5\n",
    "channel_count = 1\n",
    "\n",
    "# Reconstructor Network\n",
    "class PatchReconstructor(nn.Module):\n",
    "    def __init__(self, patch_count=g_patch_count, patch_size=g_patch_size, image_size=g_image_size):\n",
    "        super().__init__()\n",
    "        self.fc = nn.Sequential(\n",
    "            nn.Flatten(),\n",
    "            nn.Dropout(0.5),\n",
    "            nn.Linear(patch_count * channel_count * patch_size * patch_size, 1024),\n",
    "            nn.ReLU(),\n",
    "            nn.Dropout(0.5),\n",
    "            nn.Linear(1024, channel_count * image_size * image_size),\n",
    "        )\n",
    "        self.image_size = image_size\n",
    "\n",
    "    def forward(self, patches):\n",
    "        batch = patches.shape[0] // g_patch_count\n",
    "        patches = patches.view(batch, -1)\n",
    "        out = self.fc(patches)\n",
    "        return out.view(-1, 1, self.image_size, self.image_size)\n",
    "\n",
    "# Perceptual Loss Model\n",
    "class FeatureExtractor(nn.Module):\n",
    "    def __init__(self):\n",
    "        super().__init__()\n",
    "        self.model = nn.Sequential(\n",
    "            nn.Conv2d(1, 8, 3, stride=1, padding=1), nn.ReLU(),\n",
    "            nn.MaxPool2d(2),\n",
    "            nn.Conv2d(8, 16, 3, stride=1, padding=1), nn.ReLU()\n",
    "        )\n",
    "\n",
    "    def forward(self, x):\n",
    "        return self.model(x)\n",
    "\n",
    "def extract_topk_patches(image, heatmap, patch_size=g_patch_size, k=g_patch_count):\n",
    "    b, _, h, w = heatmap.shape\n",
    "    flat = heatmap.view(b, -1)\n",
    "    topk_vals, topk_indices = flat.topk(k, dim=1)\n",
    "\n",
    "    patches = []\n",
    "    for i in range(b):\n",
    "        img = image[i]\n",
    "        for idx in topk_indices[i]:\n",
    "            y = (idx // w).item()\n",
    "            x = (idx % w).item()\n",
    "            y1 = max(0, y - patch_size // 2)\n",
    "            x1 = max(0, x - patch_size // 2)\n",
    "            patch = img[:, y1:y1+patch_size, x1:x1+patch_size]\n",
    "            patch = F.interpolate(patch.unsqueeze(0), size=(patch_size, patch_size), mode='bilinear')\n",
    "            noise = 0.1 * torch.randn_like(patch)\n",
    "            patches.append(patch + noise)\n",
    "    return torch.cat(patches, dim=0)\n",
    "\n",
    "transform = T.Compose([\n",
    "    T.Resize((g_image_size, g_image_size)),\n",
    "    T.ToTensor(),\n",
    "])\n"
   ]
  },
  {
   "cell_type": "code",
   "execution_count": 329,
   "metadata": {},
   "outputs": [],
   "source": [
    "dataset = datasets.MNIST(root='./data', train=True, transform=transform, download=True)\n",
    "dataloader = DataLoader(dataset, batch_size=16, shuffle=True)\n",
    "\n",
    "saliency_model = SaliencyCNN()\n",
    "reconstructor = PatchReconstructor()\n",
    "feature_extractor = FeatureExtractor()\n",
    "\n",
    "params = list(saliency_model.parameters()) + list(reconstructor.parameters())\n",
    "optimizer = torch.optim.Adam(params, lr=1e-3)\n",
    "recon_loss_fn = nn.MSELoss()\n",
    "feature_loss_fn = nn.MSELoss()"
   ]
  },
  {
   "cell_type": "code",
   "execution_count": 330,
   "metadata": {},
   "outputs": [
    {
     "name": "stdout",
     "output_type": "stream",
     "text": [
      "Epoch 1 | Recon: 0.0640 | Perceptual: 0.0035 | Diversity: 0.0147 | Total: 0.0672\n"
     ]
    }
   ],
   "source": [
    "for epoch in range(1):\n",
    "    for images, _ in dataloader:\n",
    "        optimizer.zero_grad()\n",
    "\n",
    "        # Forward pass\n",
    "        heatmap = saliency_model(images)\n",
    "        patches = extract_topk_patches(images, heatmap)\n",
    "        reconstructed = reconstructor(patches)\n",
    "\n",
    "        # Clamp output for safety\n",
    "        reconstructed_clamped = reconstructed.clamp(0, 1)\n",
    "\n",
    "        # Pixel (reconstruction) loss\n",
    "        recon_loss = recon_loss_fn(reconstructed_clamped, images)\n",
    "\n",
    "        # Perceptual loss\n",
    "        with torch.no_grad():\n",
    "            real_features = feature_extractor(images)\n",
    "        recon_features = feature_extractor(reconstructed_clamped)\n",
    "        perceptual_loss = feature_loss_fn(recon_features, real_features)\n",
    "\n",
    "        # Diversity loss (cosine dissimilarity)\n",
    "        flat = reconstructed_clamped.view(reconstructed_clamped.size(0), -1)\n",
    "        sim_matrix = F.cosine_similarity(flat.unsqueeze(1), flat.unsqueeze(0), dim=2)\n",
    "        mask = 1 - torch.eye(flat.size(0), device=sim_matrix.device)\n",
    "        diversity_loss = 1 - (sim_matrix * mask).sum() / mask.sum()\n",
    "\n",
    "        # Total loss\n",
    "        total_loss = recon_loss + 0.5 * perceptual_loss + 0.1 * diversity_loss\n",
    "        total_loss.backward()\n",
    "        optimizer.step()\n",
    "\n",
    "    print(f\"Epoch {epoch+1} | Recon: {recon_loss.item():.4f} | Perceptual: {perceptual_loss.item():.4f} | Diversity: {diversity_loss.item():.4f} | Total: {total_loss.item():.4f}\")\n"
   ]
  },
  {
   "cell_type": "code",
   "execution_count": 371,
   "metadata": {},
   "outputs": [
    {
     "data": {
      "image/png": "[encoded data removed]",
      "text/plain": [
       "<Figure size 800x400 with 2 Axes>"
      ]
     },
     "metadata": {},
     "output_type": "display_data"
    }
   ],
   "source": [
    "def show_result(original, reconstructed):\n",
    "    original = original[0].permute(1, 2, 0).detach().numpy()\n",
    "    reconstructed = reconstructed[0].permute(1, 2, 0).detach().numpy()\n",
    "    fig, axs = plt.subplots(1, 2, figsize=(8, 4))\n",
    "    axs[0].imshow(original.squeeze(), cmap='gray')\n",
    "    axs[0].set_title(\"Original\")\n",
    "    axs[1].imshow(np.clip(reconstructed.squeeze(), 0, 1), cmap='gray')\n",
    "    axs[1].set_title(\"Reconstructed\")\n",
    "    for ax in axs: ax.axis('off')\n",
    "    plt.show()\n",
    "\n",
    "images, _ = next(iter(dataloader))\n",
    "with torch.no_grad():\n",
    "    heatmap = saliency_model(images)\n",
    "    patches = extract_topk_patches(images, heatmap)\n",
    "    reconstructed = reconstructor(patches)\n",
    "\n",
    "show_result(images, reconstructed)\n"
   ]
  },
  {
   "cell_type": "code",
   "execution_count": null,
   "metadata": {},
   "outputs": [],
   "source": []
  },
  {
   "cell_type": "code",
   "execution_count": null,
   "metadata": {},
   "outputs": [],
   "source": []
  }
 ],
 "metadata": {
  "kernelspec": {
   "display_name": "base",
   "language": "python",
   "name": "python3"
  },
  "language_info": {
   "codemirror_mode": {
    "name": "ipython",
    "version": 3
   },
   "file_extension": ".py",
   "mimetype": "text/x-python",
   "name": "python",
   "nbconvert_exporter": "python",
   "pygments_lexer": "ipython3",
   "version": "3.11.5"
  }
 },
 "nbformat": 4,
 "nbformat_minor": 2
}
